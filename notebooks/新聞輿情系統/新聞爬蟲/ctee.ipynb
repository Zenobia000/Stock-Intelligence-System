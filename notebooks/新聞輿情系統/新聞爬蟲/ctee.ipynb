{
 "cells": [
  {
   "cell_type": "code",
   "execution_count": 128,
   "metadata": {},
   "outputs": [],
   "source": [
    "# 環境變數\n",
    "PORT = 3306\n",
    "HOST = \"10.238.0.7\"\n",
    "USER = \"root\"\n",
    "PASSWORD = \"bdse28001\"\n",
    "DATABASE = \"bdse28stock\"\n",
    "TABLE = \"news\""
   ]
  },
  {
   "cell_type": "code",
   "execution_count": 129,
   "metadata": {},
   "outputs": [],
   "source": [
    "from selenium import webdriver\n",
    "from selenium.webdriver.chrome.service import Service\n",
    "from webdriver_manager.chrome import ChromeDriverManager\n",
    "# from selenium.webdriver.chrome.options import Options\n",
    "# from selenium.common.exceptions import TimeoutException\n",
    "# from selenium.webdriver.support.ui import WebDriverWait\n",
    "# from selenium.webdriver.support import expected_conditions as EC\n",
    "from selenium.webdriver.common.by import By\n",
    "# import undetected_chromedriver as uc\n",
    "from time import sleep\n",
    "# import json\n",
    "from datetime import datetime\n",
    "from datetime import timedelta\n",
    "import re\n",
    "from pprint import pprint\n",
    "import pymysql"
   ]
  },
  {
   "cell_type": "code",
   "execution_count": 130,
   "metadata": {},
   "outputs": [],
   "source": [
    "my_options = webdriver.ChromeOptions()\n",
    "# my_options.add_argument(\"--headless\")                #不開啟實體瀏覽器背景執行\n",
    "my_options.add_argument(\"--start-maximized\")  # 最大化視窗\n",
    "my_options.add_argument(\"--incognito\")  # 開啟無痕模式\n",
    "my_options.add_argument(\"--disable-popup-blocking\")  # 禁用彈出攔截\n",
    "my_options.add_argument(\"--disable-notifications\")  # 取消 chrome 推播通知\n",
    "my_options.add_argument(\"--lang=zh-TW\")  # 設定為正體中文\n",
    "my_options.add_argument('blink-settings=imagesEnabled=false')  # 不載入圖\n",
    "my_options.add_experimental_option(\n",
    "    \"excludeSwitches\", ['enable-automation', 'enable-logging'])  # 沒有異常log\n",
    "driver = webdriver.Chrome(\n",
    "    options=my_options,\n",
    "    service=Service(ChromeDriverManager().install()))"
   ]
  },
  {
   "cell_type": "code",
   "execution_count": 131,
   "metadata": {},
   "outputs": [],
   "source": [
    "# # schema\n",
    "# db = pymysql.connect(host=HOST, port=PORT, user=USER, \n",
    "#                         password=PASSWORD, db=DATABASE)\n",
    "\n",
    "# cursor = db.cursor()\n",
    "\n",
    "# cursor.execute(\"DROP TABLE IF EXISTS news\")\n",
    "# sql = \"\"\"CREATE TABLE `news` (\n",
    "#   `news` char(20) NOT NULL,\n",
    "#   `link` char(200) PRIMARY KEY NOT NULL,\n",
    "#   `title` char(200) NOT NULL,\n",
    "#   `time` datetime,\n",
    "#   `reporter` char(200),\n",
    "#   `article` varchar(3000) NOT NULL,\n",
    "#   `stocks` varchar(50)\n",
    "# ) ENGINE=InnoDB DEFAULT CHARSET=utf8;\"\"\"\n",
    "# cursor.execute(sql)\n",
    "\n",
    "# db.close()"
   ]
  },
  {
   "cell_type": "code",
   "execution_count": 132,
   "metadata": {},
   "outputs": [],
   "source": [
    "url = 'https://ctee.com.tw/category/news/stocks'\n",
    "driver.get(url)"
   ]
  },
  {
   "cell_type": "code",
   "execution_count": 133,
   "metadata": {},
   "outputs": [],
   "source": [
    "alinks = []\n",
    "results = []"
   ]
  },
  {
   "cell_type": "code",
   "execution_count": 134,
   "metadata": {},
   "outputs": [],
   "source": [
    "def inputlink():\n",
    "    links = driver.find_elements(\n",
    "        By.CSS_SELECTOR, \n",
    "        \"#content > div > div > div.col-sm-8.content-column > div.listing.listing-blog.listing-blog-5.clearfix > article > div > h2 > a\"\n",
    "    )\n",
    "    times = driver.find_elements(\n",
    "        By.CSS_SELECTOR, \n",
    "        \"#content > div > div > div > div > article > div > div> span > time\"\n",
    "    )\n",
    "\n",
    "    ctime = datetime.now()\n",
    "    if ctime.hour == 7: # 7:30\n",
    "        # yesterday 21:00 - today 7:30\n",
    "        start = ctime.replace(hour=21, minute=0, second=0, microsecond=0) - timedelta(days=1)\n",
    "        end = ctime.replace(hour=7, minute=30, second=0, microsecond=0)\n",
    "    elif ctime.hour == 21: # 21:00\n",
    "        # today 7:30 - today 21:00\n",
    "        start = ctime.replace(hour=3, minute=30, second=0, microsecond=0)\n",
    "        end = ctime.replace(hour=21, minute=0, second=0, microsecond=0)\n",
    "    \n",
    "    start = ctime.replace(hour=7, minute=30, second=0, microsecond=0)\n",
    "    end = ctime.replace(hour=21, minute=0, second=0, microsecond=0)\n",
    "    for i in range(len(links)):\n",
    "        article_datetime = times[i].get_attribute('datetime')\n",
    "        article_date_str = re.split('\\+', article_datetime)[0][2:]\n",
    "        article_date_time = datetime.strptime(article_date_str, '%y-%m-%dT%H:%M:%S')\n",
    "        if article_date_time > end:\n",
    "            continue\n",
    "        elif article_date_time >= start:\n",
    "            href = links[i].get_attribute('href')\n",
    "            alinks.append(href)\n",
    "        else:\n",
    "            return False\n",
    "    return True"
   ]
  },
  {
   "cell_type": "code",
   "execution_count": 135,
   "metadata": {},
   "outputs": [],
   "source": [
    "def craw():\n",
    "    title = driver.find_element(\n",
    "            By.CSS_SELECTOR, 'div.post-header.post-tp-1-header > h1 > span').get_attribute(\"innerText\")\n",
    "    article_datetime = driver.find_element(\n",
    "            By.CSS_SELECTOR, 'div.post-header.post-tp-1-header > div.post-meta-wrap.clearfix > div > span > time').get_attribute('datetime')\n",
    "    article_date_str = re.split('\\+', article_datetime)[0].replace('T', ' ')\n",
    "\n",
    "    article_list = driver.find_elements(\n",
    "            By.CSS_SELECTOR, 'div.entry-content.clearfix.single-post-content > p')\n",
    "    article = ''\n",
    "    for a in article_list:\n",
    "        article += a.get_attribute(\"innerText\")\n",
    "\n",
    "    reporter_l = article.split('延伸閱讀')[0] # exists recommend\n",
    "    reporter = reporter_l.split()[-1][:-1]\n",
    "    if reporter == '': # exists space after name\n",
    "        reporter = reporter_l.split()[-2] # get the before one\n",
    "    if len(reporter) > 3: # no name\n",
    "        try:\n",
    "            reporter = driver.find_element(\n",
    "                    By.CSS_SELECTOR, '#content > div > div > div.col-sm-8.content-column > div.single-container > section > div.author-title.heading-typo > a > span').get_attribute(\"innerText\")\n",
    "            reporter = reporter.split()[-1]\n",
    "        except:\n",
    "            reporter = ''\n",
    "    if reporter == '數位編輯':\n",
    "        reporter = ''\n",
    "\n",
    "    result = {\n",
    "        'news': '工商時報',\n",
    "        'link': driver.current_url, \n",
    "        'title': title, \n",
    "        'time': article_date_str, \n",
    "        'reporter': reporter, \n",
    "        'article': article\n",
    "        }\n",
    "    \n",
    "    # INSERT into TABLE\n",
    "    try:\n",
    "        sql = 'INSERT INTO %s (news, link, title, time, reporter, article) VALUES (\"%s\", \"%s\", \"%s\", \"%s\", \"%s\", \"%s\");'\\\n",
    "                            % (TABLE, result['news'], result['link'], result['title'], result['time'], result['reporter'], result['article'])\n",
    "        cursor.execute(sql)\n",
    "        db.commit()\n",
    "    except Exception as e:\n",
    "        print(e)\n",
    "        pass"
   ]
  },
  {
   "cell_type": "code",
   "execution_count": 136,
   "metadata": {},
   "outputs": [],
   "source": [
    "if __name__ == '__main__':\n",
    "\n",
    "    db = pymysql.connect(host=HOST, port=PORT, user=USER, \n",
    "                        password=PASSWORD, db=DATABASE)\n",
    "    cursor = db.cursor()\n",
    "\n",
    "    page = 2\n",
    "    while(inputlink()):\n",
    "        sleep(1)\n",
    "        driver.get(url+'/page/'+str(page))\n",
    "        page += 1\n",
    "    for link in alinks:\n",
    "        driver.get(link)\n",
    "        craw()\n",
    "        sleep(2)\n",
    "\n",
    "    driver.quit()\n",
    "    \n",
    "    # save as json\n",
    "    # filename_innerText = 'test_'\n",
    "    # with open(f'{filename_innerText}'+'.json', \"w\", encoding='utf-8') as file:\n",
    "    #     file.write(json.dumps(\n",
    "    #         results, ensure_ascii=False, indent=4))\n",
    "    \n",
    "    db.close()"
   ]
  }
 ],
 "metadata": {
  "kernelspec": {
   "display_name": "python_3915",
   "language": "python",
   "name": "python3"
  },
  "language_info": {
   "codemirror_mode": {
    "name": "ipython",
    "version": 3
   },
   "file_extension": ".py",
   "mimetype": "text/x-python",
   "name": "python",
   "nbconvert_exporter": "python",
   "pygments_lexer": "ipython3",
   "version": "3.9.15"
  },
  "orig_nbformat": 4,
  "vscode": {
   "interpreter": {
    "hash": "a18d44d90538e121ccc08f26e1180552e64586707c563e3afe8b38a57d2cb696"
   }
  }
 },
 "nbformat": 4,
 "nbformat_minor": 2
}
